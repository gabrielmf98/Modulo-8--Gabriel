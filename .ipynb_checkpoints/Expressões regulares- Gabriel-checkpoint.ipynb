{
 "cells": [
  {
   "cell_type": "code",
   "execution_count": 3,
   "id": "94ea58b2",
   "metadata": {},
   "outputs": [
    {
     "name": "stdout",
     "output_type": "stream",
     "text": [
      " 1 x 9 =  9\n",
      " 2 x 9 = 18\n",
      " 3 x 9 = 27\n",
      " 4 x 9 = 36\n",
      " 5 x 9 = 45\n",
      " 6 x 9 = 54\n",
      " 7 x 9 = 63\n",
      " 8 x 9 = 72\n",
      " 9 x 9 = 81\n",
      "10 x 9 = 90\n"
     ]
    }
   ],
   "source": [
    "for i in range(1,11):\n",
    "    print('{:>2} x {} = {:>2}'.format( i, 9, 9*i) )"
   ]
  },
  {
   "cell_type": "code",
   "execution_count": 4,
   "id": "866bd7e1",
   "metadata": {},
   "outputs": [
    {
     "name": "stdout",
     "output_type": "stream",
     "text": [
      "O céu\n",
      "está azul\n",
      "O céu\\nestá azul\n",
      "O céu\\nestá azul\n"
     ]
    }
   ],
   "source": [
    "# exemplo de um string normal\n",
    "print(\"O céu\\nestá azul\")\n",
    "# forçar a escrita de um \\\n",
    "print(\"O céu\\\\nestá azul\") \n",
    "# usar o prefixo r, para raw, print ou assim\n",
    "print(r\"O céu\\nestá azul\")"
   ]
  },
  {
   "cell_type": "code",
   "execution_count": 5,
   "id": "4bfe2fb8",
   "metadata": {},
   "outputs": [],
   "source": [
    "import re\n",
    "frase = \"O João tem 18 anos e nasceu em 2004, 2 anos antes da Inês que agora tem 16, que nasceu em 2006\""
   ]
  },
  {
   "cell_type": "code",
   "execution_count": 6,
   "id": "b843d870",
   "metadata": {},
   "outputs": [
    {
     "name": "stdout",
     "output_type": "stream",
     "text": [
      "1\n"
     ]
    }
   ],
   "source": [
    "match = re.search(r'[0123456789]', frase)\n",
    "print(match[0])"
   ]
  },
  {
   "cell_type": "code",
   "execution_count": 7,
   "id": "2b49243a",
   "metadata": {},
   "outputs": [],
   "source": [
    "match = re.search(r'\\d+', frase)"
   ]
  },
  {
   "cell_type": "code",
   "execution_count": 8,
   "id": "3ca987cd",
   "metadata": {},
   "outputs": [
    {
     "data": {
      "text/plain": [
       "<re.Match object; span=(11, 13), match='18'>"
      ]
     },
     "execution_count": 8,
     "metadata": {},
     "output_type": "execute_result"
    }
   ],
   "source": [
    "p = re.compile(r'\\d+')\n",
    "p.search(frase)"
   ]
  },
  {
   "cell_type": "code",
   "execution_count": 9,
   "id": "28b88a8a",
   "metadata": {},
   "outputs": [
    {
     "data": {
      "text/plain": [
       "<re.Match object; span=(11, 13), match='18'>"
      ]
     },
     "execution_count": 9,
     "metadata": {},
     "output_type": "execute_result"
    }
   ],
   "source": [
    "p = re.compile(r'[0-9]+')\n",
    "p.search(frase)"
   ]
  },
  {
   "cell_type": "code",
   "execution_count": 10,
   "id": "3aa6d146",
   "metadata": {},
   "outputs": [
    {
     "name": "stdout",
     "output_type": "stream",
     "text": [
      "None\n"
     ]
    }
   ],
   "source": [
    "match = re.match(r'\\d+', frase)\n",
    "print(match)"
   ]
  },
  {
   "cell_type": "code",
   "execution_count": 11,
   "id": "da7f0ffc",
   "metadata": {},
   "outputs": [
    {
     "name": "stdout",
     "output_type": "stream",
     "text": [
      "<re.Match object; span=(0, 4), match='1975'>\n",
      "1975\n",
      "None\n"
     ]
    }
   ],
   "source": [
    "import re \n",
    "\n",
    "pal1 = \"1975, ano de boa produção\"\n",
    "pal2 = \"Viva o 1 de dezembro\"\n",
    "match1 = re.match(r'\\d+', pal1)\n",
    "print(match1)\n",
    "print(match1[0])\n",
    "match2 = re.match(r'\\d+', pal2)\n",
    "print(match2)"
   ]
  },
  {
   "cell_type": "code",
   "execution_count": 12,
   "id": "6afb8b51",
   "metadata": {},
   "outputs": [
    {
     "name": "stdout",
     "output_type": "stream",
     "text": [
      "['18', '2004', '2', '16', '2006']\n"
     ]
    }
   ],
   "source": [
    "# match = re.findall(r'\\d+', frase)\n",
    "match = re.findall(r'\\d+', frase)\n",
    "\n",
    "print(match)"
   ]
  },
  {
   "cell_type": "code",
   "execution_count": 13,
   "id": "9d13c3fd",
   "metadata": {},
   "outputs": [
    {
     "data": {
      "text/plain": [
       "['O',\n",
       " 'João',\n",
       " 'tem',\n",
       " '18',\n",
       " 'anos',\n",
       " 'e',\n",
       " 'nasceu',\n",
       " 'em',\n",
       " '2004',\n",
       " '2',\n",
       " 'anos',\n",
       " 'antes',\n",
       " 'da',\n",
       " 'Inês',\n",
       " 'que',\n",
       " 'agora',\n",
       " 'tem',\n",
       " '16',\n",
       " 'que',\n",
       " 'nasceu',\n",
       " 'em',\n",
       " '2006']"
      ]
     },
     "execution_count": 13,
     "metadata": {},
     "output_type": "execute_result"
    }
   ],
   "source": [
    "re.findall(r'\\w+', frase)"
   ]
  },
  {
   "cell_type": "code",
   "execution_count": 14,
   "id": "412c8c99",
   "metadata": {},
   "outputs": [
    {
     "name": "stdout",
     "output_type": "stream",
     "text": [
      "11-13: 18\n",
      "31-35: 2004\n",
      "37-38: 2\n",
      "72-74: 16\n",
      "90-94: 2006\n"
     ]
    }
   ],
   "source": [
    "for m in re.finditer(r'\\d+', frase):\n",
    "    print('{}-{}: {}'.format(m.start(), m.end(), m.group(0)))"
   ]
  },
  {
   "cell_type": "code",
   "execution_count": 15,
   "id": "a844478b",
   "metadata": {},
   "outputs": [
    {
     "data": {
      "text/plain": [
       "'O João tem 0x12 anos e nasceu em 0x7d4, 0x2 anos antes da Inês que agora tem 0x10, que nasceu em 0x7d6'"
      ]
     },
     "execution_count": 15,
     "metadata": {},
     "output_type": "execute_result"
    }
   ],
   "source": [
    "def tohex(match):\n",
    "    return(hex(int(match[0])))\n",
    "\n",
    "re.sub(r\"\\d+\", tohex, frase)"
   ]
  },
  {
   "cell_type": "code",
   "execution_count": 16,
   "id": "f28a3724",
   "metadata": {},
   "outputs": [
    {
     "name": "stdout",
     "output_type": "stream",
     "text": [
      "1992 10 14\n"
     ]
    }
   ],
   "source": [
    "nascimento = \"14/10/1992\"\n",
    "# nascimento = \"14-10-1992\"\n",
    "\n",
    "m = re.match(r\"(\\d\\d)[/-](\\d\\d)[/-](\\d\\d\\d\\d)\", nascimento)\n",
    "\n",
    "if m:\n",
    "    print( m.group(3), m.group(2), m.group(1) )"
   ]
  },
  {
   "cell_type": "code",
   "execution_count": 17,
   "id": "9dcc359b",
   "metadata": {},
   "outputs": [
    {
     "data": {
      "text/plain": [
       "['Pires,', 'João', 'Paulo', '', '', '', 'Alves', 'Cabrita']"
      ]
     },
     "execution_count": 17,
     "metadata": {},
     "output_type": "execute_result"
    }
   ],
   "source": [
    "\"Pires, João Paulo    Alves Cabrita\".split(' ')"
   ]
  },
  {
   "cell_type": "code",
   "execution_count": 18,
   "id": "bfadbf5d",
   "metadata": {},
   "outputs": [
    {
     "data": {
      "text/plain": [
       "['Pires', 'João', 'Paulo', 'Alves', 'Cabrita', 'Corte', 'Real']"
      ]
     },
     "execution_count": 18,
     "metadata": {},
     "output_type": "execute_result"
    }
   ],
   "source": [
    "# e = re.compile(r'[^0-9a-zA-Z]+')\n",
    "e = re.compile(r'[ ,;]+')\n",
    "e.split(\"Pires,,,,João Paulo           Alves;Cabrita, Corte Real\") "
   ]
  },
  {
   "cell_type": "code",
   "execution_count": 20,
   "id": "e5248d11",
   "metadata": {},
   "outputs": [
    {
     "name": "stdout",
     "output_type": "stream",
     "text": [
      "LOCUS       HIVI5C                   231 bp    DNA     linear   VRL 24-MAR-1997\n",
      "DEFINITION  Human immunodeficiency virus type 1 (isolate genotype C, I5) gag\n",
      "            gene, partial cds.\n",
      "ACCESSION   L42022\n",
      "VERSION     L42022.1\n",
      "KEYWORDS    gag gene; p24 protein.\n",
      "SOURCE      Human immunodeficiency virus 1 (HIV-1)\n",
      "  ORGANISM  Human immunodeficiency virus 1\n",
      "            Viruses; Riboviria; Pararnavirae; Artverviricota; Revtraviricetes;\n",
      "            Ortervirales; Retroviridae; Orthoretrovirinae; Lentivirus.\n",
      "REFERENCE   1  (bases 1 to 231)\n",
      "  AUTHORS   Voevodin,A., Crandall,K.A., Seth,P. and al Mufti,S.\n",
      "  TITLE     HIV type 1 subtypes B and C from new regions of India and Indian\n",
      "            and Ethiopian expatriates in Kuwait\n",
      "  JOURNAL   AIDS Res. Hum. Retroviruses 12 (7), 641-643 (1996)\n",
      "   PUBMED   8743090\n",
      "FEATURES             Location/Qualifiers\n",
      "     source          1..231\n",
      "                     /organism=\"Human immunodeficiency virus 1\"\n",
      "                     /proviral\n",
      "                     /mol_type=\"genomic DNA\"\n",
      "                     /isolate=\"genotype C, I5\"\n",
      "                     /db_xref=\"taxon:11676\"\n",
      "     gene            1..231\n",
      "                     /gene=\"gag\"\n",
      "     CDS             <1..>231\n",
      "                     /gene=\"gag\"\n",
      "                     /codon_start=1\n",
      "                     /protein_id=\"AAB50165.1\"\n",
      "                     /translation=\"HPVHAGPIAPGQMREPRGSDIAGTTSTLQEQVAWMTGNPPVPVG\n",
      "                     EIYKRWIILGLNKIVRMYSPVSILDIKQGPKEP\"\n",
      "ORIGIN      \n",
      "        1 catccagtac atgcagggcc tattgcacca ggccaaatga gagaaccaag gggaagtgac\n",
      "       61 atagcaggaa ctacaagtac ccttcaggaa caagtagcat ggatgacagg taacccacct\n",
      "      121 gttccagtgg gagaaatcta taaaagatgg ataattctgg gattaaataa aatagtaaga\n",
      "      181 atgtatagcc ctgtcagcat tttggacata aaacaagggc caaaggaacc c\n",
      "//\n",
      "\n",
      "\n"
     ]
    }
   ],
   "source": [
    "import re\n",
    "\n",
    "fonte = open(\"L42022.1.gb\",'r')\n",
    "locus = fonte.read()\n",
    "fonte.close()\n",
    "print( locus )"
   ]
  },
  {
   "cell_type": "code",
   "execution_count": 21,
   "id": "1f73fa6c",
   "metadata": {},
   "outputs": [
    {
     "data": {
      "text/plain": [
       "<re.Match object; span=(207, 227), match='VERSION     L42022.1'>"
      ]
     },
     "execution_count": 21,
     "metadata": {},
     "output_type": "execute_result"
    }
   ],
   "source": [
    "re.search(\"VERSION\\s+[\\w.]+\", locus)"
   ]
  },
  {
   "cell_type": "code",
   "execution_count": 22,
   "id": "1ffb74e1",
   "metadata": {},
   "outputs": [
    {
     "data": {
      "text/plain": [
       "<re.Match object; span=(207, 227), match='VERSION     L42022.1'>"
      ]
     },
     "execution_count": 22,
     "metadata": {},
     "output_type": "execute_result"
    }
   ],
   "source": [
    "re.search(\"^VERSION\\s+[\\w.]+\", locus, re.MULTILINE)"
   ]
  },
  {
   "cell_type": "code",
   "execution_count": 23,
   "id": "0290dea5",
   "metadata": {},
   "outputs": [
    {
     "data": {
      "text/plain": [
       "['        1 catccagtac atgcagggcc tattgcacca ggccaaatga gagaaccaag gggaagtgac',\n",
       " '       61 atagcaggaa ctacaagtac ccttcaggaa caagtagcat ggatgacagg taacccacct',\n",
       " '      121 gttccagtgg gagaaatcta taaaagatgg ataattctgg gattaaataa aatagtaaga',\n",
       " '      181 atgtatagcc ctgtcagcat tttggacata aaacaagggc caaaggaacc c']"
      ]
     },
     "execution_count": 23,
     "metadata": {},
     "output_type": "execute_result"
    }
   ],
   "source": [
    "re.findall(\"^\\s+\\d+ [actg ]+\", locus, re.MULTILINE)"
   ]
  },
  {
   "cell_type": "code",
   "execution_count": 24,
   "id": "90bc1f03",
   "metadata": {},
   "outputs": [
    {
     "name": "stdout",
     "output_type": "stream",
     "text": [
      "ACCESSION   L42022\n",
      "https://www.ncbi.nlm.nih.gov/nuccore/L42022\n"
     ]
    }
   ],
   "source": [
    "import re\n",
    "\n",
    "# fonte = open(\"L42022.1.gb\",'r')\n",
    "fonte = open(\"L42022.1.gb\",'r')\n",
    "locus = fonte.read()\n",
    "fonte.close()\n",
    "\n",
    "existe = re.search(r'ACCESSION\\s+[^\\s]+', locus)\n",
    "if existe:\n",
    "    print( existe[0] )\n",
    "    m = re.match(r'ACCESSION\\s+([^\\s]+)', existe[0] )\n",
    "    if m:\n",
    "        id = m.group(1)\n",
    "        print( \"https://www.ncbi.nlm.nih.gov/nuccore/{}\".format( id ) )\n",
    "else:\n",
    "    print( \"Padrão não encontrado\" )"
   ]
  },
  {
   "cell_type": "code",
   "execution_count": 25,
   "id": "beb82815",
   "metadata": {},
   "outputs": [
    {
     "name": "stdout",
     "output_type": "stream",
     "text": [
      "Human immunodeficiency virus type 1 (isolate genotype C, I5) gag gene, partial cds. \n"
     ]
    }
   ],
   "source": [
    "\n",
    "import re\n",
    "\n",
    "# fonte = open(\"L42022.1.gb\",'r')\n",
    "fonte = open(\"L42022.1.gb\",'r')\n",
    "locus = fonte.read()\n",
    "fonte.close()\n",
    "\n",
    "# ver https://docs.python.org/3/howto/regex.html#lookahead-assertions\n",
    "# ver https://docs.python.org/3/howto/regex.html#greedy-versus-non-greedy\n",
    "existe = re.findall(r'DEFINITION\\s+.*?(?=ACCESSION)', locus, re.DOTALL)\n",
    "if existe:\n",
    "    for title in existe:\n",
    "        m = re.match( r'DEFINITION\\s+(.+)', title, re.DOTALL )\n",
    "        # print( m.group(1) )\n",
    "        print( re.sub(r'\\s+', ' ', m.group(1) ) )"
   ]
  },
  {
   "cell_type": "code",
   "execution_count": 26,
   "id": "be3cf306",
   "metadata": {},
   "outputs": [
    {
     "name": "stdout",
     "output_type": "stream",
     "text": [
      "LOCUS       HIVI5C                   231 bp    DNA     linear   VRL 24-MAR-1997\n",
      "DEFINITION  Human immunodeficiency virus type 1 (isolate genotype C, I5) gag\n",
      "            gene, partial cds.\n",
      "ACCESSION   L42022\n",
      "VERSION     L42022.1\n",
      "KEYWORDS    gag gene; p24 protein.\n",
      "SOURCE      Human immunodeficiency virus 1 (HIV-1)\n",
      "  ORGANISM  Human immunodeficiency virus 1\n",
      "            Viruses; Riboviria; Pararnavirae; Artverviricota; Revtraviricetes;\n",
      "            Ortervirales; Retroviridae; Orthoretrovirinae; Lentivirus.\n",
      "REFERENCE   1  (bases 1 to 231)\n",
      "  AUTHORS   Voevodin,A., Crandall,K.A., Seth,P. and al Mufti,S.\n",
      "  TITLE     HIV type 1 subtypes B and C from new regions of India and Indian\n",
      "            and Ethiopian expatriates in Kuwait\n",
      "  JOURNAL   AIDS Res. Hum. Retroviruses 12 (7), 641-643 (1996)\n",
      "   PUBMED   8743090\n",
      "FEATURES             Location/Qualifiers\n",
      "     source          1..231\n",
      "                     /organism=\"Human immunodeficiency virus 1\"\n",
      "                     /proviral\n",
      "                     /mol_type=\"genomic DNA\"\n",
      "                     /isolate=\"genotype C, I5\"\n",
      "                     /db_xref=\"taxon:11676\"\n",
      "     gene            1..231\n",
      "                     /gene=\"gag\"\n",
      "     CDS             <1..>231\n",
      "                     /gene=\"gag\"\n",
      "                     /codon_start=1\n",
      "                     /protein_id=\"AAB50165.1\"\n",
      "                     /translation=\"HPVHAGPIAPGQMREPRGSDIAGTTSTLQEQVAWMTGNPPVPVG\n",
      "                     EIYKRWIILGLNKIVRMYSPVSILDIKQGPKEP\"\n",
      "ORIGIN      \n",
      "        1 catccagtac atgcagggcc tattgcacca ggccaaatga gagaaccaag gggaagtgac\n",
      "       61 atagcaggaa ctacaagtac ccttcaggaa caagtagcat ggatgacagg taacccacct\n",
      "      121 gttccagtgg gagaaatcta taaaagatgg ataattctgg gattaaataa aatagtaaga\n",
      "      181 atgtatagcc ctgtcagcat tttggacata aaacaagggc caaaggaacc c\n",
      "//\n",
      "\n",
      "\n"
     ]
    }
   ],
   "source": [
    "import re\n",
    "\n",
    "fonte = open(\"L42022.1.gb\",'r')\n",
    "locus = fonte.read()\n",
    "fonte.close()\n",
    "print( locus )"
   ]
  },
  {
   "cell_type": "code",
   "execution_count": 30,
   "id": "0c698a8a",
   "metadata": {},
   "outputs": [
    {
     "name": "stdout",
     "output_type": "stream",
     "text": [
      "HIV type 1 subtypes B and C from new regions of India and Indian and Ethiopian expatriates in Kuwait JOURNAL AIDS Res. Hum. Retroviruses 12 (7), 641-643 (1996) \n"
     ]
    }
   ],
   "source": [
    "import re\n",
    "\n",
    "# fonte = open(\"L42022.1.gb\",'r')\n",
    "fonte = open(\"L42022.1.gb\",'r')\n",
    "locus = fonte.read()\n",
    "fonte.close()\n",
    "\n",
    "# ver https://docs.python.org/3/howto/regex.html#lookahead-assertions\n",
    "# ver https://docs.python.org/3/howto/regex.html#greedy-versus-non-greedy\n",
    "existe = re.findall(r'TITLE\\s+.*?(?=PUBMED)', locus, re.DOTALL)\n",
    "#print(existe)\n",
    "if existe:\n",
    "    for title in existe:\n",
    "        m = re.match( r'TITLE\\s+(.+)', title, re.DOTALL )\n",
    "        #print( m.group(1) )\n",
    "        print( re.sub(r'\\s+', ' ', m.group(1) ) )\n",
    "        "
   ]
  },
  {
   "cell_type": "code",
   "execution_count": 31,
   "id": "9ac58176",
   "metadata": {},
   "outputs": [
    {
     "name": "stdout",
     "output_type": "stream",
     "text": [
      "['/protein_id=\"AAB50165.1\"\\n                     ']\n"
     ]
    }
   ],
   "source": [
    "import re\n",
    "\n",
    "\n",
    "fonte = open(\"L42022.1.gb\",'r')\n",
    "locus = fonte.read()\n",
    "fonte.close()\n",
    "\n",
    "existe = re.findall(r'/protein_id\\S+.*?(?=/translation)', locus, re.DOTALL)\n",
    "#existe = re.findall(r'CDS\\s+.*?(?=//)', locus, re.DOTALL)\n",
    "print(existe)\n",
    "\n",
    "if existe:\n",
    "    \n",
    "    for proteina in existe:\n",
    "        m = re.search( r'/protein_id=', proteina, re.DOTALL )\n",
    "        #print( re.sub(r'\\S+', ' ', m.group(1) ) )"
   ]
  },
  {
   "cell_type": "code",
   "execution_count": 37,
   "id": "37581e76",
   "metadata": {},
   "outputs": [
    {
     "name": "stdout",
     "output_type": "stream",
     "text": [
      "catccagtacatgcagggcctattgcaccaggccaaatgagagaaccaaggggaagtgacatagcaggaactacaagtacccttcaggaacaagtagcatggatgacaggtaacccacctgttccagtgggagaaatctataaaagatggataattctgggattaaataaaatagtaagaatgtatagccctgtcagcattttggacataaaacaagggccaaaggaaccc\n"
     ]
    }
   ],
   "source": [
    "import re\n",
    "\n",
    "flag=False\n",
    "sequencia=\"\"\n",
    "\n",
    "fonte = open(\"L42022.1.gb\",'r')\n",
    "\n",
    "\n",
    "\n",
    "for linha in fonte:\n",
    "    if re.search(r\"//\", linha):\n",
    "        flag= False\n",
    "    if flag:\n",
    "            s=re.match(r\"\\s+\\d+ ([actg ]+)\", linha)\n",
    "            if s:\n",
    "                sequencia= sequencia + s.group(1).replace(\" \",\"\")\n",
    "    if re.search(r\"ORIGIN\", linha):\n",
    "        flag=True\n",
    "        \n",
    "fonte.close()\n",
    "print( sequencia )\n",
    "        \n",
    "        \n",
    "            \n",
    "                   "
   ]
  },
  {
   "cell_type": "code",
   "execution_count": null,
   "id": "20899a91",
   "metadata": {},
   "outputs": [],
   "source": []
  },
  {
   "cell_type": "code",
   "execution_count": null,
   "id": "984452cc",
   "metadata": {},
   "outputs": [],
   "source": []
  }
 ],
 "metadata": {
  "kernelspec": {
   "display_name": "Python 3 (ipykernel)",
   "language": "python",
   "name": "python3"
  },
  "language_info": {
   "codemirror_mode": {
    "name": "ipython",
    "version": 3
   },
   "file_extension": ".py",
   "mimetype": "text/x-python",
   "name": "python",
   "nbconvert_exporter": "python",
   "pygments_lexer": "ipython3",
   "version": "3.9.13"
  }
 },
 "nbformat": 4,
 "nbformat_minor": 5
}
